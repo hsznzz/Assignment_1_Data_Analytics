{
 "cells": [
  {
   "cell_type": "markdown",
   "id": "4db9fc12-897d-482c-8eaf-bb7409668cd2",
   "metadata": {},
   "source": [
    "# **Balanced Risk Set Matching**\n"
   ]
  },
  {
   "cell_type": "markdown",
   "id": "165ee0ab-1541-41c0-b569-8892c133d95d",
   "metadata": {},
   "source": [
    "- **Ladrera**, Raiken  \r\n",
    "- **Tibon**, Hestia  \r\n",
    "\r\n",
    "---\r\n",
    "--\r\n"
   ]
  },
  {
   "cell_type": "markdown",
   "id": "2d1f9642-da17-48e0-9336-631bce916a69",
   "metadata": {},
   "source": [
    "### **Objective:**"
   ]
  },
  {
   "cell_type": "markdown",
   "id": "be35f467-6d2f-4695-835c-da5968d901a3",
   "metadata": {},
   "source": [
    "Imagine you have two groups of people in a study, to compare two groups of patients, one that received treatment and one that did not, while ensuring they are similar in key aspects. This allows researchers to determine whether the treatment is truly effective or if any differences are merely due to chance.\r\n"
   ]
  },
  {
   "cell_type": "markdown",
   "id": "98448230-a14e-4c51-bbb2-e7e820bf67b2",
   "metadata": {},
   "source": [
    "**Balanced Risk Set Matching (BRSM)** is an effective method to address this issue. Rather than randomly selecting individuals from both groups, it carefully matches individuals who are as similar as possible, except for whether they received the treatment. This ensures that both groups share the same distribution of key characteristics, such as age, health, and income.\r\n"
   ]
  },
  {
   "cell_type": "markdown",
   "id": "ff9fb017-d3a9-4d1b-b75c-daff953aaafa",
   "metadata": {},
   "source": [
    "### <b> How does it work?"
   ]
  },
  {
   "cell_type": "markdown",
   "id": "4a021bb7-3d18-4379-98ad-5894ec4cc883",
   "metadata": {},
   "source": [
    "**- Identify Similar Patients:** When a patient receives treatment, we find another patient with similar symptoms who has not yet undergone treatment.  \r\n",
    "**- Ensure Balanced Groups:** We ensure both groups have a well-distributed mix of symptoms for a fair comparison.  \r\n",
    "**- Track Changes Over Time:** We monitor symptom progression after treatment and compare outcomes between the two groups.  \r\n",
    "**- Apply Mathematical Fairness:** Integer programming is used to ensure an unbiased and accurate matching process.\r\n",
    "cess.\r\n",
    "ss."
   ]
  },
  {
   "cell_type": "markdown",
   "id": "a138d160-d52f-41d5-9ad8-d88db12f7937",
   "metadata": {},
   "source": [
    "### **Data Used:**"
   ]
  },
  {
   "cell_type": "markdown",
   "id": "a8024058-7ab0-418a-a817-6cc80935f907",
   "metadata": {},
   "source": [
    "Patient records with:\r\n",
    "- Symptoms before treatment (*pain, urgency, frequency*).\r\n",
    "- Treatment time (*if they received treatment*).\r\n",
    "- Post-treatment symptoms (*after a simulated effect of treatment*).\r\n",
    ").\r\n",
    "  \r\n",
    "t)."
   ]
  },
  {
   "cell_type": "markdown",
   "id": "37f02b3e-35c9-4a08-ba71-d1a6d3d2ff06",
   "metadata": {},
   "source": [
    "### **Packages and Libraries**"
   ]
  },
  {
   "cell_type": "code",
   "execution_count": 3,
   "id": "1b4a6403-9510-4141-a00e-5beaae94c79e",
   "metadata": {},
   "outputs": [
    {
     "name": "stdout",
     "output_type": "stream",
     "text": [
      "Requirement already satisfied: numpy in c:\\users\\meizi\\anaconda3\\lib\\site-packages (1.26.4)\n",
      "Requirement already satisfied: pandas in c:\\users\\meizi\\anaconda3\\lib\\site-packages (2.1.4)\n",
      "Requirement already satisfied: scipy in c:\\users\\meizi\\anaconda3\\lib\\site-packages (1.11.4)\n",
      "Requirement already satisfied: matplotlib in c:\\users\\meizi\\anaconda3\\lib\\site-packages (3.8.0)\n",
      "Requirement already satisfied: seaborn in c:\\users\\meizi\\anaconda3\\lib\\site-packages (0.12.2)\n",
      "Requirement already satisfied: python-dateutil>=2.8.2 in c:\\users\\meizi\\anaconda3\\lib\\site-packages (from pandas) (2.8.2)\n",
      "Requirement already satisfied: pytz>=2020.1 in c:\\users\\meizi\\anaconda3\\lib\\site-packages (from pandas) (2023.3.post1)\n",
      "Requirement already satisfied: tzdata>=2022.1 in c:\\users\\meizi\\anaconda3\\lib\\site-packages (from pandas) (2023.3)\n",
      "Requirement already satisfied: contourpy>=1.0.1 in c:\\users\\meizi\\anaconda3\\lib\\site-packages (from matplotlib) (1.2.0)\n",
      "Requirement already satisfied: cycler>=0.10 in c:\\users\\meizi\\anaconda3\\lib\\site-packages (from matplotlib) (0.11.0)\n",
      "Requirement already satisfied: fonttools>=4.22.0 in c:\\users\\meizi\\anaconda3\\lib\\site-packages (from matplotlib) (4.25.0)\n",
      "Requirement already satisfied: kiwisolver>=1.0.1 in c:\\users\\meizi\\anaconda3\\lib\\site-packages (from matplotlib) (1.4.4)\n",
      "Requirement already satisfied: packaging>=20.0 in c:\\users\\meizi\\anaconda3\\lib\\site-packages (from matplotlib) (23.1)\n",
      "Requirement already satisfied: pillow>=6.2.0 in c:\\users\\meizi\\anaconda3\\lib\\site-packages (from matplotlib) (10.2.0)\n",
      "Requirement already satisfied: pyparsing>=2.3.1 in c:\\users\\meizi\\anaconda3\\lib\\site-packages (from matplotlib) (3.0.9)\n",
      "Requirement already satisfied: six>=1.5 in c:\\users\\meizi\\anaconda3\\lib\\site-packages (from python-dateutil>=2.8.2->pandas) (1.16.0)\n"
     ]
    }
   ],
   "source": [
    "# Required Packages\n",
    "!pip install numpy pandas scipy matplotlib seaborn\n",
    "\n",
    "# Required Libraries\n",
    "import numpy as np\n",
    "import pandas as pd\n",
    "import matplotlib.pyplot as plt\n",
    "import seaborn as sns\n",
    "from scipy.spatial.distance import cdist\n",
    "from scipy.stats import wilcoxon\n",
    "from collections import defaultdict"
   ]
  },
  {
   "cell_type": "markdown",
   "id": "31b66bd9-923d-4c01-b672-1b612222797c",
   "metadata": {},
   "source": [
    "### **Global Variables**"
   ]
  },
  {
   "cell_type": "code",
   "execution_count": 4,
   "id": "3d75e63a-a4f9-4ec7-a798-ea6b094abe63",
   "metadata": {},
   "outputs": [],
   "source": [
    "np.random.seed(25)\n",
    "\n",
    "# Number of patients and evaluation periods\n",
    "number_of_patients = 210\n",
    "evaluation_years = 4\n",
    "evaluation_months = evaluation_years * 12\n",
    "MAX_MATCHES = 100\n",
    "\n",
    "BOX_TITLES = [\n",
    "    'Baseline',\n",
    "    'At Treatment',\n",
    "    '3 Months after Treatment',\n",
    "    '6 Months after Treatment',\n",
    "    'Difference (3 mos posttreatment)',\n",
    "    'Difference (6 mos posttreatment)'\n",
    "]\n",
    "\n",
    "BOX_LABELS = ['Never/Later Treated', 'Treated']"
   ]
  },
  {
   "cell_type": "markdown",
   "id": "866ebaaf-67c6-4042-b819-28aae4668ea3",
   "metadata": {},
   "source": [
    "### **Data Preparation**"
   ]
  },
  {
   "cell_type": "code",
   "execution_count": 6,
   "id": "2877771b-786c-482c-b35c-84cca8388a65",
   "metadata": {},
   "outputs": [
    {
     "data": {
      "text/html": [
       "<div>\n",
       "<style scoped>\n",
       "    .dataframe tbody tr th:only-of-type {\n",
       "        vertical-align: middle;\n",
       "    }\n",
       "\n",
       "    .dataframe tbody tr th {\n",
       "        vertical-align: top;\n",
       "    }\n",
       "\n",
       "    .dataframe thead th {\n",
       "        text-align: right;\n",
       "    }\n",
       "</style>\n",
       "<table border=\"1\" class=\"dataframe\">\n",
       "  <thead>\n",
       "    <tr style=\"text-align: right;\">\n",
       "      <th></th>\n",
       "      <th>patient_id</th>\n",
       "      <th>gender</th>\n",
       "      <th>pain</th>\n",
       "      <th>urgency</th>\n",
       "      <th>frequency</th>\n",
       "    </tr>\n",
       "  </thead>\n",
       "  <tbody>\n",
       "    <tr>\n",
       "      <th>0</th>\n",
       "      <td>0</td>\n",
       "      <td>F</td>\n",
       "      <td>6</td>\n",
       "      <td>7</td>\n",
       "      <td>16</td>\n",
       "    </tr>\n",
       "    <tr>\n",
       "      <th>1</th>\n",
       "      <td>1</td>\n",
       "      <td>M</td>\n",
       "      <td>9</td>\n",
       "      <td>9</td>\n",
       "      <td>1</td>\n",
       "    </tr>\n",
       "    <tr>\n",
       "      <th>2</th>\n",
       "      <td>2</td>\n",
       "      <td>M</td>\n",
       "      <td>3</td>\n",
       "      <td>5</td>\n",
       "      <td>16</td>\n",
       "    </tr>\n",
       "    <tr>\n",
       "      <th>3</th>\n",
       "      <td>3</td>\n",
       "      <td>F</td>\n",
       "      <td>7</td>\n",
       "      <td>1</td>\n",
       "      <td>8</td>\n",
       "    </tr>\n",
       "    <tr>\n",
       "      <th>4</th>\n",
       "      <td>4</td>\n",
       "      <td>F</td>\n",
       "      <td>6</td>\n",
       "      <td>6</td>\n",
       "      <td>14</td>\n",
       "    </tr>\n",
       "  </tbody>\n",
       "</table>\n",
       "</div>"
      ],
      "text/plain": [
       "   patient_id gender  pain  urgency  frequency\n",
       "0           0      F     6        7         16\n",
       "1           1      M     9        9          1\n",
       "2           2      M     3        5         16\n",
       "3           3      F     7        1          8\n",
       "4           4      F     6        6         14"
      ]
     },
     "execution_count": 6,
     "metadata": {},
     "output_type": "execute_result"
    }
   ],
   "source": [
    "# Synthetic baseline data for patients\n",
    "baseline_data = pd.DataFrame({\n",
    "    \"patient_id\": np.arange(0, number_of_patients),\n",
    "    \"gender\": np.random.choice(['M', 'F'], number_of_patients),\n",
    "    \"pain\": np.random.randint(0, 10, number_of_patients),\n",
    "    \"urgency\": np.random.randint(0, 10, number_of_patients),\n",
    "    \"frequency\": np.random.randint(0, 20, number_of_patients)\n",
    "})\n",
    "\n",
    "baseline_data.head()"
   ]
  },
  {
   "cell_type": "markdown",
   "id": "bc389b7a-dc2c-4019-8c91-07227e7a2a7d",
   "metadata": {},
   "source": [
    "### **Evaluation Data**"
   ]
  },
  {
   "cell_type": "code",
   "execution_count": 7,
   "id": "2da6697b-b7bd-419a-bea4-a458357499ee",
   "metadata": {},
   "outputs": [
    {
     "data": {
      "text/html": [
       "<div>\n",
       "<style scoped>\n",
       "    .dataframe tbody tr th:only-of-type {\n",
       "        vertical-align: middle;\n",
       "    }\n",
       "\n",
       "    .dataframe tbody tr th {\n",
       "        vertical-align: top;\n",
       "    }\n",
       "\n",
       "    .dataframe thead th {\n",
       "        text-align: right;\n",
       "    }\n",
       "</style>\n",
       "<table border=\"1\" class=\"dataframe\">\n",
       "  <thead>\n",
       "    <tr style=\"text-align: right;\">\n",
       "      <th></th>\n",
       "      <th>pain</th>\n",
       "      <th>urgency</th>\n",
       "      <th>frequency</th>\n",
       "    </tr>\n",
       "    <tr>\n",
       "      <th>patient_id</th>\n",
       "      <th></th>\n",
       "      <th></th>\n",
       "      <th></th>\n",
       "    </tr>\n",
       "  </thead>\n",
       "  <tbody>\n",
       "    <tr>\n",
       "      <th>0</th>\n",
       "      <td>5.5000</td>\n",
       "      <td>4.6875</td>\n",
       "      <td>10.1250</td>\n",
       "    </tr>\n",
       "    <tr>\n",
       "      <th>1</th>\n",
       "      <td>6.0000</td>\n",
       "      <td>4.5000</td>\n",
       "      <td>8.3750</td>\n",
       "    </tr>\n",
       "    <tr>\n",
       "      <th>2</th>\n",
       "      <td>5.3125</td>\n",
       "      <td>4.5625</td>\n",
       "      <td>8.5625</td>\n",
       "    </tr>\n",
       "    <tr>\n",
       "      <th>3</th>\n",
       "      <td>4.4375</td>\n",
       "      <td>5.6250</td>\n",
       "      <td>11.0625</td>\n",
       "    </tr>\n",
       "    <tr>\n",
       "      <th>4</th>\n",
       "      <td>5.6250</td>\n",
       "      <td>5.1250</td>\n",
       "      <td>10.6875</td>\n",
       "    </tr>\n",
       "  </tbody>\n",
       "</table>\n",
       "</div>"
      ],
      "text/plain": [
       "              pain  urgency  frequency\n",
       "patient_id                            \n",
       "0           5.5000   4.6875    10.1250\n",
       "1           6.0000   4.5000     8.3750\n",
       "2           5.3125   4.5625     8.5625\n",
       "3           4.4375   5.6250    11.0625\n",
       "4           5.6250   5.1250    10.6875"
      ]
     },
     "execution_count": 7,
     "metadata": {},
     "output_type": "execute_result"
    }
   ],
   "source": [
    "# Synthetic evaluation data for patients at 3-month intervals\n",
    "evaluation_data = pd.DataFrame()\n",
    "\n",
    "for patient_id in range(number_of_patients):\n",
    "    chosen_treatment_time = np.random.choice(list(np.arange(3, evaluation_months + 1, 3)) + [None])\n",
    "    \n",
    "    # Evaluate every 3 months up to 4 years\n",
    "    for month in range(3, evaluation_months + 1, 3):\n",
    "        pain = np.random.randint(0, 10, 1)\n",
    "        urgency = np.random.randint(0, 10, 1)\n",
    "        frequency = np.random.randint(0, 20, 1)\n",
    "        time_since_entry = month\n",
    "\n",
    "        if chosen_treatment_time is None or month < chosen_treatment_time:\n",
    "            time_treated = None\n",
    "            treated = 0\n",
    "        else:\n",
    "            time_treated = chosen_treatment_time\n",
    "            treated = 1\n",
    "\n",
    "        evaluation_data = pd.concat([evaluation_data, pd.DataFrame({\n",
    "            'patient_id': patient_id, \n",
    "            'pain': pain, \n",
    "            'urgency': urgency, \n",
    "            'frequency': frequency, \n",
    "            'time_since_entry': time_since_entry, \n",
    "            'time_treated': time_treated, \n",
    "            'treated': treated\n",
    "        })])\n",
    "\n",
    "evaluation_data.groupby('patient_id')[['pain', 'urgency', 'frequency']].mean().head()"
   ]
  },
  {
   "cell_type": "markdown",
   "id": "95fd09f3-b22b-4c51-862f-107d792dcf56",
   "metadata": {},
   "source": [
    "### **Risk Set Matching**"
   ]
  },
  {
   "cell_type": "code",
   "execution_count": 8,
   "id": "71f38065-f393-4f11-b93f-953c887a612c",
   "metadata": {},
   "outputs": [
    {
     "data": {
      "text/plain": [
       "dict_keys([3, 48, 24, 36, 39, 6, 9, 15, 21, 18, 45, 33, 12, 42, 30, 27])"
      ]
     },
     "execution_count": 8,
     "metadata": {},
     "output_type": "execute_result"
    }
   ],
   "source": [
    "risk_sets = {}\n",
    "\n",
    "for treatment_time in evaluation_data['time_treated'].dropna().unique():\n",
    "    # Identify patients who started treatment at the current time point\n",
    "    treated_patients = evaluation_data[\n",
    "        (evaluation_data['time_since_entry'] == treatment_time) & \n",
    "        (evaluation_data['time_treated'] == treatment_time)\n",
    "    ]\n",
    "    \n",
    "    # Identify patients who remained untreated at the same time point\n",
    "    untreated_patients = evaluation_data[\n",
    "        (evaluation_data['time_since_entry'] == treatment_time) & \n",
    "        (evaluation_data['treated'] == 0)\n",
    "    ]\n",
    "\n",
    "    # Store the treated and untreated groups in the dictionary\n",
    "    risk_sets[treatment_time] = (treated_patients, untreated_patients)\n",
    "\n",
    "risk_sets.keys()"
   ]
  },
  {
   "cell_type": "markdown",
   "id": "8d4e9d91-1ce1-4297-91eb-7137d0ba2255",
   "metadata": {},
   "source": [
    "### **Binary Variables**fect.\")\r\n"
   ]
  },
  {
   "cell_type": "code",
   "execution_count": 9,
   "id": "c2a3b678-76a3-4c20-866c-d09699e6a16b",
   "metadata": {},
   "outputs": [],
   "source": [
    "def create_binary_variables(df, variables):\n",
    "    binary_vars = defaultdict(list)\n",
    "    for var in variables:\n",
    "        lower_threshold = np.percentile(df[var], 33)\n",
    "        upper_threshold = np.percentile(df[var], 67)\n",
    "\n",
    "        # Create binary variables for lower, middle, and upper groups\n",
    "        binary_lower = (df[var] <= lower_threshold).astype(int)\n",
    "        binary_middle = ((df[var] > lower_threshold) & (df[var] <= upper_threshold)).astype(int)\n",
    "        binary_upper = (df[var] > upper_threshold).astype(int)\n",
    "        \n",
    "        binary_vars[f\"{var}_middle\"].extend(binary_middle)\n",
    "        binary_vars[f\"{var}_upper\"].extend(binary_upper)\n",
    "\n",
    "    # Generate binary DataFrame for each symptom variable\n",
    "    binary_df = pd.DataFrame(binary_vars)\n",
    "    return binary_df"
   ]
  },
  {
   "cell_type": "markdown",
   "id": "b2312369-1699-4acc-8b98-7ee51c2e22f7",
   "metadata": {},
   "source": [
    "### **Risk Set with Binary Variables**"
   ]
  },
  {
   "cell_type": "code",
   "execution_count": 10,
   "id": "21d68a15-6819-411a-8363-20750b8472e0",
   "metadata": {},
   "outputs": [
    {
     "data": {
      "text/plain": [
       "Index(['patient_id', 'pain_current', 'urgency_current', 'frequency_current',\n",
       "       'time_since_entry', 'time_treated', 'treated', 'gender',\n",
       "       'pain_baseline', 'urgency_baseline', 'frequency_baseline',\n",
       "       'pain_current_middle', 'pain_current_upper', 'urgency_current_middle',\n",
       "       'urgency_current_upper', 'frequency_current_middle',\n",
       "       'frequency_current_upper', 'pain_baseline_middle',\n",
       "       'pain_baseline_upper', 'urgency_baseline_middle',\n",
       "       'urgency_baseline_upper', 'frequency_baseline_middle',\n",
       "       'frequency_baseline_upper'],\n",
       "      dtype='object')"
      ]
     },
     "execution_count": 10,
     "metadata": {},
     "output_type": "execute_result"
    }
   ],
   "source": [
    "variables = [\n",
    "    'pain_current',\n",
    "    'urgency_current',\n",
    "    'frequency_current',\n",
    "    'pain_baseline',\n",
    "    'urgency_baseline',\n",
    "    'frequency_baseline'\n",
    "]\n",
    "\n",
    "updated_risk_sets = {}\n",
    "\n",
    "for key, (treated, untreated) in risk_sets.items():\n",
    "    # Merge treated patients with baseline data\n",
    "    treated_patients = treated.merge(baseline_data, on='patient_id', suffixes=['_current', '_baseline'])\n",
    "    \n",
    "    # Generate binary variables for treated patients\n",
    "    binary_treated = create_binary_variables(treated_patients, variables)\n",
    "    treated_patients = pd.concat([treated_patients, binary_treated], axis=1)\n",
    "    \n",
    "    # Merge untreated patients with baseline data\n",
    "    untreated_patients = untreated.merge(baseline_data, on='patient_id', suffixes=['_current', '_baseline'])\n",
    "    \n",
    "    # Generate binary variables for untreated patients\n",
    "    binary_untreated = create_binary_variables(untreated_patients, variables)\n",
    "    untreated_patients = pd.concat([untreated_patients, binary_untreated], axis=1)\n",
    "    \n",
    "    # Store the updated treated and untreated groups in the new dictionary\n",
    "    updated_risk_sets[key] = (treated_patients, untreated_patients)\n",
    "\n",
    "list(updated_risk_sets.values())[0][0].columns"
   ]
  },
  {
   "cell_type": "markdown",
   "id": "c3e14414-04ae-433b-91c9-609a69263816",
   "metadata": {},
   "source": [
    "### **Calculating the various distances between treated and untreated groups**"
   ]
  },
  {
   "cell_type": "code",
   "execution_count": 11,
   "id": "e898b8fb-1b81-4782-a665-2c07973b2546",
   "metadata": {},
   "outputs": [],
   "source": [
    "# Compute Mahalanobis Distance\n",
    "def compute_mahalanobis_distance(treated, untreated, covariates):\n",
    "    treated_matrix = treated[covariates].to_numpy()\n",
    "    untreated_matrix = untreated[covariates].to_numpy()\n",
    "    \n",
    "    return cdist(treated_matrix, untreated_matrix, metric='mahalanobis')\n",
    "\n",
    "# Store distances and matches as well as average distance\n",
    "distance_dict = defaultdict(list)\n",
    "\n",
    "for key, (treated, untreated) in updated_risk_sets.items():\n",
    "    distance_matrix = compute_mahalanobis_distance(treated, untreated, variables)\n",
    "    \n",
    "    for i, row in enumerate(distance_matrix):\n",
    "        for j, distance in enumerate(row):\n",
    "            distance_dict[distance].append((int(treated['patient_id'].iloc[i]), int(untreated['patient_id'].iloc[j])))\n",
    "\n",
    "average_distance = sum(distance_dict.keys()) / len(distance_dict.keys())"
   ]
  },
  {
   "cell_type": "code",
   "execution_count": 14,
   "id": "bd4b70e0-0a53-41c4-a78e-eec863e23ace",
   "metadata": {},
   "outputs": [],
   "source": [
    "mcf_matches = []  # Minimum Cost Flow matches\n",
    "count = 0\n",
    "\n",
    "for keys in sorted(distance_dict.keys()):\n",
    "    for match in distance_dict[keys]:\n",
    "        if count >= MAX_MATCHES:\n",
    "            break\n",
    "            \n",
    "        mcf_matches.append(match)\n",
    "        count += 1\n",
    "\n",
    "# Compute sum of K binary variables\n",
    "def find_sum_bin(series, variables):\n",
    "    total = 0\n",
    "\n",
    "    # This way lower = 0, middle = 1, upper = 2\n",
    "    for i, var in enumerate(variables):\n",
    "        total += (i + 1) * series.loc[var]\n",
    "\n",
    "    return total"
   ]
  },
  {
   "cell_type": "markdown",
   "id": "847be755-90b8-48eb-9813-a735aa873860",
   "metadata": {},
   "source": [
    "### **Balanced Pair Matching**"
   ]
  },
  {
   "cell_type": "code",
   "execution_count": 15,
   "id": "10afff8a-e915-4fd1-ab64-b5e9896e77a2",
   "metadata": {},
   "outputs": [],
   "source": [
    "bpm_matches = []\n",
    "patient_set = set()\n",
    "count = 0\n",
    "\n",
    "binary_vars = [\n",
    "    f\"{x}_middle\" for x in variables\n",
    "] + [\n",
    "    f\"{x}_upper\" for x in variables\n",
    "]\n",
    "\n",
    "for (treated, untreated) in updated_risk_sets.values():\n",
    "    for i in range(treated.shape[0]):\n",
    "        for j in range(untreated.shape[0]):\n",
    "            # If balanced\n",
    "            if count < MAX_MATCHES and find_sum_bin(treated.iloc[i], binary_vars) == find_sum_bin(untreated.iloc[j], binary_vars):\n",
    "                treated_id = int(treated['patient_id'].iloc[i])\n",
    "                untreated_id = int(untreated['patient_id'].iloc[j])\n",
    "\n",
    "                if treated_id not in patient_set and untreated_id not in patient_set: \n",
    "                    bpm_matches.append((treated_id, untreated_id))\n",
    "                    \n",
    "                    patient_set.add(treated_id)\n",
    "                    patient_set.add(untreated_id)\n",
    "                    count += 1"
   ]
  },
  {
   "cell_type": "markdown",
   "id": "38fc957c-09ee-49ff-bfeb-607135b4a126",
   "metadata": {},
   "source": [
    "### **Grouping Matching Data Frames**"
   ]
  },
  {
   "cell_type": "code",
   "execution_count": 16,
   "id": "e7616a8d-12a7-4ac3-bad1-22b02deb8189",
   "metadata": {},
   "outputs": [],
   "source": [
    "def find_dataframes(match):\n",
    "    x, y = match\n",
    "    features = ['pain', 'urgency', 'frequency']\n",
    "\n",
    "    # Getting baseline data\n",
    "    baseline_match_x = baseline_data[baseline_data['patient_id'] == x][features]\n",
    "    baseline_match_y = baseline_data[baseline_data['patient_id'] == y][features]\n",
    "\n",
    "    features.append('treated')\n",
    "    \n",
    "    # Getting on treatment data\n",
    "    treatment_match_x = evaluation_data[(evaluation_data['patient_id'] == x) \n",
    "        & (evaluation_data['time_treated'] == evaluation_data['time_since_entry'])][features + ['time_since_entry']]\n",
    "\n",
    "    time_since_entry = treatment_match_x['time_since_entry'].iloc[0] if not treatment_match_x['time_since_entry'].empty else -1\n",
    "    \n",
    "    if time_since_entry == -1:\n",
    "        return ()\n",
    "    else:\n",
    "        treatment_match_x = treatment_match_x.drop('time_since_entry', axis=1)\n",
    "\n",
    "    treatment_match_y = evaluation_data[(evaluation_data['patient_id'] == y) \n",
    "        & (evaluation_data['time_since_entry'] == time_since_entry)][features]\n",
    "\n",
    "    # Getting 3 months after data\n",
    "    time_since_entry += 3\n",
    "    \n",
    "    _3_months_match_x = evaluation_data[(evaluation_data['patient_id'] == x) \n",
    "        & (evaluation_data['time_since_entry'] == time_since_entry)][features]\n",
    "    _3_months_match_y = evaluation_data[(evaluation_data['patient_id'] == y) \n",
    "        & (evaluation_data['time_since_entry'] == time_since_entry)][features]\n",
    "\n",
    "    # Getting 6 months after data\n",
    "    time_since_entry += 3\n",
    "    _6_months_match_x = evaluation_data[(evaluation_data['patient_id'] == x) \n",
    "        & (evaluation_data['time_since_entry'] == time_since_entry)][features]\n",
    "    _6_months_match_y = evaluation_data[(evaluation_data['patient_id'] == y) \n",
    "        & (evaluation_data['time_since_entry'] == time_since_entry)][features]\n",
    "\n",
    "    return (\n",
    "        baseline_match_x, \n",
    "        baseline_match_y,\n",
    "        treatment_match_x,\n",
    "        treatment_match_y,\n",
    "        _3_months_match_x,\n",
    "        _3_months_match_y,\n",
    "        _6_months_match_x,\n",
    "        _6_months_match_y\n",
    "    )"
   ]
  },
  {
   "cell_type": "code",
   "execution_count": 17,
   "id": "8c906da1-38a0-48d8-9278-4eb376a1d6f6",
   "metadata": {},
   "outputs": [],
   "source": [
    "dataframes = [pd.DataFrame() for _ in range(12)]\n",
    "\n",
    "treatment_index = 2\n",
    "month_index = 4\n",
    "\n",
    "for match in bpm_matches:\n",
    "    data = find_dataframes(match)\n",
    "\n",
    "    if len(data) == 0:\n",
    "        continue\n",
    "\n",
    "    for i in range(len(dataframes) - 4):  # minus 4 to remove last 2 box plots\n",
    "        dataframes[i] = pd.concat([dataframes[i], data[i]])\n",
    "\n",
    "    for i in range(4):\n",
    "        index = len(dataframes) - 4 + i\n",
    "        dataframes[index] = pd.concat([dataframes[index], data[month_index + i] - data[treatment_index + (i // 2)]])\n",
    "\n",
    "for index in range(len(dataframes)):\n",
    "    dataframes[index] = dataframes[index].dropna()"
   ]
  },
  {
   "cell_type": "markdown",
   "id": "ec4644f4-c109-4634-83b9-95b99157549f",
   "metadata": {},
   "source": [
    "## **Analysis**"
   ]
  },
  {
   "cell_type": "code",
   "execution_count": 18,
   "id": "f206c522-6cc2-442b-bb23-825534d6246d",
   "metadata": {},
   "outputs": [],
   "source": [
    "def display_boxplots(column, title):\n",
    "    global dataframes\n",
    "    fig, axes = plt.subplots(len(dataframes) // 4, 2, figsize=(10, 10))\n",
    "    \n",
    "    for i in range(0, len(dataframes), 2):    \n",
    "        actual_index = i // 2\n",
    "        axes_row = actual_index // 2\n",
    "        axes_col = actual_index % 2\n",
    "        \n",
    "        axes[axes_row, axes_col].boxplot([dataframes[i + 1].loc[:, column], dataframes[i].loc[:, column]])\n",
    "        axes[axes_row, axes_col].set_title(BOX_TITLES[i // 2])\n",
    "        axes[axes_row, axes_col].set_ylabel(title)\n",
    "        axes[axes_row, axes_col].set_xticks([1, 2], BOX_LABELS)\n",
    "\n",
    "    plt.subplots_adjust(\n",
    "        wspace=0.5,\n",
    "        hspace=0.5\n",
    "    )\n",
    "    plt.show()"
   ]
  },
  {
   "cell_type": "markdown",
   "id": "8fd0e925-2556-4ecb-9d1c-db5391c19329",
   "metadata": {},
   "source": [
    "### **PAIN RESULTS:**"
   ]
  },
  {
   "cell_type": "code",
   "execution_count": 62,
   "id": "e3e2a3f7-881c-446f-a0f1-cb6d2b669ba4",
   "metadata": {},
   "outputs": [
    {
     "data": {
      "image/png": "[encoded data removed]",
      "text/plain": [
       "<Figure size 1000x1000 with 6 Axes>"
      ]
     },
     "metadata": {},
     "output_type": "display_data"
    }
   ],
   "source": [
    "display_boxplots('pain', 'Pain Score')"
   ]
  },
  {
   "cell_type": "markdown",
   "id": "5bf49dda-df8f-4180-b7ef-62e698391b61",
   "metadata": {},
   "source": [
    "### **URGENCY RESULTS:**"
   ]
  },
  {
   "cell_type": "code",
   "execution_count": 63,
   "id": "e2183d74-475d-4130-976e-44295d25d3e7",
   "metadata": {},
   "outputs": [
    {
     "data": {
      "image/png": "[encoded data removed]",
      "text/plain": [
       "<Figure size 1000x1000 with 6 Axes>"
      ]
     },
     "metadata": {},
     "output_type": "display_data"
    }
   ],
   "source": [
    "display_boxplots('urgency', 'Urgency Score')"
   ]
  },
  {
   "cell_type": "code",
   "execution_count": null,
   "id": "68f5b4b4-e6c1-4522-b3ab-617519b5a73b",
   "metadata": {},
   "outputs": [],
   "source": []
  }
 ],
 "metadata": {
  "kernelspec": {
   "display_name": "Python 3 (ipykernel)",
   "language": "python",
   "name": "python3"
  },
  "language_info": {
   "codemirror_mode": {
    "name": "ipython",
    "version": 3
   },
   "file_extension": ".py",
   "mimetype": "text/x-python",
   "name": "python",
   "nbconvert_exporter": "python",
   "pygments_lexer": "ipython3",
   "version": "3.11.7"
  }
 },
 "nbformat": 4,
 "nbformat_minor": 5
}
